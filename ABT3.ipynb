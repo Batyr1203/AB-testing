{
 "cells": [
  {
   "cell_type": "markdown",
   "metadata": {
    "id": "qWux0NT11W2_"
   },
   "source": [
    "# A/B testing\n",
    "\n",
    "## Оценка статистического теста с применением методов частотной нормализации"
   ]
  },
  {
   "cell_type": "code",
   "execution_count": null,
   "metadata": {
    "id": "IUoCAkeDB4pO"
   },
   "outputs": [],
   "source": [
    "import matplotlib.pyplot as plt\n",
    "import pandas as pd\n",
    "import numpy as np\n",
    "\n",
    "from scipy.stats import shapiro, levene, ttest_ind"
   ]
  },
  {
   "cell_type": "code",
   "execution_count": null,
   "metadata": {
    "colab": {
     "base_uri": "https://localhost:8080/"
    },
    "id": "5FYxzxpoKTB0",
    "outputId": "b895bc9f-210f-4dee-9bac-f0a54cb1a57b"
   },
   "outputs": [
    {
     "name": "stdout",
     "output_type": "stream",
     "text": [
      "Requirement already satisfied: bootstrapped in /usr/local/lib/python3.7/dist-packages (0.0.2)\n",
      "Requirement already satisfied: matplotlib>=1.5.3 in /usr/local/lib/python3.7/dist-packages (from bootstrapped) (3.2.2)\n",
      "Requirement already satisfied: pandas>=0.18.1 in /usr/local/lib/python3.7/dist-packages (from bootstrapped) (1.1.5)\n",
      "Requirement already satisfied: numpy>=1.11.1 in /usr/local/lib/python3.7/dist-packages (from bootstrapped) (1.19.5)\n",
      "Requirement already satisfied: python-dateutil>=2.1 in /usr/local/lib/python3.7/dist-packages (from matplotlib>=1.5.3->bootstrapped) (2.8.2)\n",
      "Requirement already satisfied: pyparsing!=2.0.4,!=2.1.2,!=2.1.6,>=2.0.1 in /usr/local/lib/python3.7/dist-packages (from matplotlib>=1.5.3->bootstrapped) (3.0.6)\n",
      "Requirement already satisfied: cycler>=0.10 in /usr/local/lib/python3.7/dist-packages (from matplotlib>=1.5.3->bootstrapped) (0.11.0)\n",
      "Requirement already satisfied: kiwisolver>=1.0.1 in /usr/local/lib/python3.7/dist-packages (from matplotlib>=1.5.3->bootstrapped) (1.3.2)\n",
      "Requirement already satisfied: pytz>=2017.2 in /usr/local/lib/python3.7/dist-packages (from pandas>=0.18.1->bootstrapped) (2018.9)\n",
      "Requirement already satisfied: six>=1.5 in /usr/local/lib/python3.7/dist-packages (from python-dateutil>=2.1->matplotlib>=1.5.3->bootstrapped) (1.15.0)\n"
     ]
    }
   ],
   "source": [
    "!pip install bootstrapped\n",
    "\n",
    "import bootstrapped.bootstrap as bs\n",
    "import bootstrapped.compare_functions as bs_compare\n",
    "import bootstrapped.stats_functions as bs_stats"
   ]
  },
  {
   "cell_type": "markdown",
   "metadata": {
    "id": "zymwp2H0G94K"
   },
   "source": [
    "Загружаем данные по пользователям и бакетам в структуру pandas.DataFrame()."
   ]
  },
  {
   "cell_type": "code",
   "execution_count": null,
   "metadata": {
    "id": "XUR_Mu5ULb00"
   },
   "outputs": [],
   "source": [
    "data_users = pd.read_csv('/content/hw_abt_2_byuser.csv', sep='\\t', index_col=0)\n",
    "data_buckets = pd.read_csv('/content/hw_abt_2_bybucket.csv', sep='\\t')"
   ]
  },
  {
   "cell_type": "code",
   "execution_count": null,
   "metadata": {
    "colab": {
     "base_uri": "https://localhost:8080/",
     "height": 206
    },
    "id": "39hMkN3HtQB3",
    "outputId": "eecaa8bc-89d1-4bb4-e0c8-56f8eb89d3c4"
   },
   "outputs": [
    {
     "data": {
      "text/html": [
       "<div>\n",
       "<style scoped>\n",
       "    .dataframe tbody tr th:only-of-type {\n",
       "        vertical-align: middle;\n",
       "    }\n",
       "\n",
       "    .dataframe tbody tr th {\n",
       "        vertical-align: top;\n",
       "    }\n",
       "\n",
       "    .dataframe thead th {\n",
       "        text-align: right;\n",
       "    }\n",
       "</style>\n",
       "<table border=\"1\" class=\"dataframe\">\n",
       "  <thead>\n",
       "    <tr style=\"text-align: right;\">\n",
       "      <th></th>\n",
       "      <th>group_id</th>\n",
       "      <th>metric_value</th>\n",
       "      <th>users</th>\n",
       "      <th>visits</th>\n",
       "      <th>churn_users</th>\n",
       "      <th>churn_visits</th>\n",
       "      <th>group</th>\n",
       "    </tr>\n",
       "  </thead>\n",
       "  <tbody>\n",
       "    <tr>\n",
       "      <th>0</th>\n",
       "      <td>8</td>\n",
       "      <td>6630.000</td>\n",
       "      <td>0</td>\n",
       "      <td>0</td>\n",
       "      <td>0</td>\n",
       "      <td>8</td>\n",
       "      <td>A</td>\n",
       "    </tr>\n",
       "    <tr>\n",
       "      <th>1</th>\n",
       "      <td>13</td>\n",
       "      <td>6933.976</td>\n",
       "      <td>0</td>\n",
       "      <td>0</td>\n",
       "      <td>1</td>\n",
       "      <td>6</td>\n",
       "      <td>B</td>\n",
       "    </tr>\n",
       "    <tr>\n",
       "      <th>2</th>\n",
       "      <td>10</td>\n",
       "      <td>8261.976</td>\n",
       "      <td>1</td>\n",
       "      <td>10</td>\n",
       "      <td>1</td>\n",
       "      <td>8</td>\n",
       "      <td>B</td>\n",
       "    </tr>\n",
       "    <tr>\n",
       "      <th>3</th>\n",
       "      <td>4</td>\n",
       "      <td>5522.000</td>\n",
       "      <td>1</td>\n",
       "      <td>9</td>\n",
       "      <td>1</td>\n",
       "      <td>7</td>\n",
       "      <td>A</td>\n",
       "    </tr>\n",
       "    <tr>\n",
       "      <th>4</th>\n",
       "      <td>16</td>\n",
       "      <td>5075.976</td>\n",
       "      <td>1</td>\n",
       "      <td>6</td>\n",
       "      <td>0</td>\n",
       "      <td>8</td>\n",
       "      <td>B</td>\n",
       "    </tr>\n",
       "  </tbody>\n",
       "</table>\n",
       "</div>"
      ],
      "text/plain": [
       "   group_id  metric_value  users  visits  churn_users  churn_visits group\n",
       "0         8      6630.000      0       0            0             8     A\n",
       "1        13      6933.976      0       0            1             6     B\n",
       "2        10      8261.976      1      10            1             8     B\n",
       "3         4      5522.000      1       9            1             7     A\n",
       "4        16      5075.976      1       6            0             8     B"
      ]
     },
     "execution_count": 4,
     "metadata": {},
     "output_type": "execute_result"
    }
   ],
   "source": [
    "data_users.head()"
   ]
  },
  {
   "cell_type": "code",
   "execution_count": null,
   "metadata": {
    "colab": {
     "base_uri": "https://localhost:8080/"
    },
    "id": "FMsLXfWALg8L",
    "outputId": "ad220b4f-4514-4603-9e2d-ee202beae2d3"
   },
   "outputs": [
    {
     "data": {
      "text/plain": [
       "(5000, 7)"
      ]
     },
     "execution_count": 5,
     "metadata": {},
     "output_type": "execute_result"
    }
   ],
   "source": [
    "data_users.shape"
   ]
  },
  {
   "cell_type": "markdown",
   "metadata": {
    "id": "LMFq6KL12XcB"
   },
   "source": [
    "Распределяем данные пользователей согласно их группам."
   ]
  },
  {
   "cell_type": "code",
   "execution_count": null,
   "metadata": {
    "id": "0ExuUnL5LhCr"
   },
   "outputs": [],
   "source": [
    "users_A = data_users.loc[data_users['group'] == 'A', :]\n",
    "users_B = data_users.loc[data_users['group'] == 'B', :]"
   ]
  },
  {
   "cell_type": "markdown",
   "metadata": {
    "id": "--Y5PbqX2YoJ"
   },
   "source": [
    "Рассмотрим диаграммы размаха некоторых метрик."
   ]
  },
  {
   "cell_type": "code",
   "execution_count": null,
   "metadata": {
    "colab": {
     "base_uri": "https://localhost:8080/",
     "height": 564
    },
    "id": "hY1UE9gqLhFX",
    "outputId": "d16361da-1019-4f3e-d194-dd0876aedb33"
   },
   "outputs": [
    {
     "data": {
      "text/plain": [
       "<matplotlib.axes._subplots.AxesSubplot at 0x7f80fb86eed0>"
      ]
     },
     "execution_count": 7,
     "metadata": {},
     "output_type": "execute_result"
    },
    {
     "data": {
      "image/png": "[encoded data removed]",
      "text/plain": [
       "<Figure size 432x288 with 1 Axes>"
      ]
     },
     "metadata": {
      "needs_background": "light"
     },
     "output_type": "display_data"
    },
    {
     "data": {
      "image/png": "[encoded data removed]",
      "text/plain": [
       "<Figure size 432x288 with 1 Axes>"
      ]
     },
     "metadata": {
      "needs_background": "light"
     },
     "output_type": "display_data"
    }
   ],
   "source": [
    "users_A[['metric_value']].plot.box(title='metric_value of A')\n",
    "users_B[['metric_value']].plot.box(title='metric_value of B')"
   ]
  },
  {
   "cell_type": "code",
   "execution_count": null,
   "metadata": {
    "colab": {
     "base_uri": "https://localhost:8080/",
     "height": 562
    },
    "id": "LAMkFa5NLhIL",
    "outputId": "f907591f-c0b6-41a9-b135-81604da5cb73"
   },
   "outputs": [
    {
     "data": {
      "text/plain": [
       "<matplotlib.axes._subplots.AxesSubplot at 0x7f80fb31e610>"
      ]
     },
     "execution_count": 8,
     "metadata": {},
     "output_type": "execute_result"
    },
    {
     "data": {
      "image/png": "[encoded data removed]",
      "text/plain": [
       "<Figure size 432x288 with 1 Axes>"
      ]
     },
     "metadata": {
      "needs_background": "light"
     },
     "output_type": "display_data"
    },
    {
     "data": {
      "image/png": "[encoded data removed]",
      "text/plain": [
       "<Figure size 432x288 with 1 Axes>"
      ]
     },
     "metadata": {
      "needs_background": "light"
     },
     "output_type": "display_data"
    }
   ],
   "source": [
    "users_A[['visits']].plot.box(title='metric_value of A')\n",
    "users_B[['visits']].plot.box(title='metric_value of B')"
   ]
  },
  {
   "cell_type": "code",
   "execution_count": null,
   "metadata": {
    "colab": {
     "base_uri": "https://localhost:8080/",
     "height": 564
    },
    "id": "hzJT5q1utb8b",
    "outputId": "7521ce1f-a8d2-4c27-859f-9a2fd6a1c21b"
   },
   "outputs": [
    {
     "data": {
      "text/plain": [
       "<matplotlib.axes._subplots.AxesSubplot at 0x7f80fb8b4b10>"
      ]
     },
     "execution_count": 9,
     "metadata": {},
     "output_type": "execute_result"
    },
    {
     "data": {
      "image/png": "[encoded data removed]",
      "text/plain": [
       "<Figure size 432x288 with 1 Axes>"
      ]
     },
     "metadata": {
      "needs_background": "light"
     },
     "output_type": "display_data"
    },
    {
     "data": {
      "image/png": "[encoded data removed]",
      "text/plain": [
       "<Figure size 432x288 with 1 Axes>"
      ]
     },
     "metadata": {
      "needs_background": "light"
     },
     "output_type": "display_data"
    }
   ],
   "source": [
    "users_A[['churn_visits']].plot.box(title='metric_value of A')\n",
    "users_B[['churn_visits']].plot.box(title='metric_value of B')"
   ]
  },
  {
   "cell_type": "markdown",
   "metadata": {
    "id": "YA0iea7g2oi5"
   },
   "source": [
    "# 1. Проверка на нормальность распределений метрик и дисперсионный анализ.\n",
    "\n",
    "Рассмотрим гистограммы распределений метрик."
   ]
  },
  {
   "cell_type": "code",
   "execution_count": null,
   "metadata": {
    "colab": {
     "base_uri": "https://localhost:8080/",
     "height": 1000
    },
    "id": "DxVoO16suzhx",
    "outputId": "22f6f9d8-0578-43b7-ffcb-4fa680565dac"
   },
   "outputs": [
    {
     "data": {
      "text/plain": [
       "<matplotlib.axes._subplots.AxesSubplot at 0x7f80fb10f850>"
      ]
     },
     "execution_count": 10,
     "metadata": {},
     "output_type": "execute_result"
    },
    {
     "data": {
      "image/png": "[encoded data removed]",
      "text/plain": [
       "<Figure size 432x288 with 1 Axes>"
      ]
     },
     "metadata": {
      "needs_background": "light"
     },
     "output_type": "display_data"
    },
    {
     "data": {
      "image/png": "[encoded data removed]",
      "text/plain": [
       "<Figure size 432x288 with 1 Axes>"
      ]
     },
     "metadata": {
      "needs_background": "light"
     },
     "output_type": "display_data"
    },
    {
     "data": {
      "image/png": "[encoded data removed]",
      "text/plain": [
       "<Figure size 432x288 with 1 Axes>"
      ]
     },
     "metadata": {
      "needs_background": "light"
     },
     "output_type": "display_data"
    },
    {
     "data": {
      "image/png": "[encoded data removed]",
      "text/plain": [
       "<Figure size 432x288 with 1 Axes>"
      ]
     },
     "metadata": {
      "needs_background": "light"
     },
     "output_type": "display_data"
    },
    {
     "data": {
      "image/png": "[encoded data removed]",
      "text/plain": [
       "<Figure size 432x288 with 1 Axes>"
      ]
     },
     "metadata": {
      "needs_background": "light"
     },
     "output_type": "display_data"
    }
   ],
   "source": [
    "users_A[['metric_value']].plot.hist()\n",
    "users_A[['users']].plot.hist()\n",
    "users_A[['visits']].plot.hist()\n",
    "users_A[['churn_users']].plot.hist()\n",
    "users_A[['churn_visits']].plot.hist()"
   ]
  },
  {
   "cell_type": "markdown",
   "metadata": {
    "id": "PjHv4GWV2v6T"
   },
   "source": [
    "Схожие гистограммы будут наблюдаться и в группе B.\n",
    "Согласно гистограммам выше, лишь метрика *metric_value* имеет распределение, близкое к нормальному. Докажем, или опровергнем нормальность распределения метрики с помощью критерия Шапиро-Уилкса. Выберем уровень значимости α = 0.05."
   ]
  },
  {
   "cell_type": "code",
   "execution_count": null,
   "metadata": {
    "colab": {
     "base_uri": "https://localhost:8080/"
    },
    "id": "v63ROz_fu1KW",
    "outputId": "e546120e-cb70-45bf-d678-25d7b66c7822"
   },
   "outputs": [
    {
     "name": "stdout",
     "output_type": "stream",
     "text": [
      "Group A:\n",
      "(0.9951456189155579, 3.546447828739474e-07)\n",
      "Distributions is not normal\n",
      "\n",
      "Group B:\n",
      "(0.9923585057258606, 2.4686641619808825e-10)\n",
      "Distributions is not normal\n",
      "\n"
     ]
    }
   ],
   "source": [
    "alpha = 0.05\n",
    "\n",
    "print('Group A:')\n",
    "st = shapiro(users_A[['metric_value']])\n",
    "print(st)\n",
    "print('Distributions is {}normal\\n'.format( {True:'not ', False:''}[st[1] < alpha]))\n",
    "\n",
    "print('Group B:')\n",
    "st = shapiro(users_B[['metric_value']])\n",
    "print(st)\n",
    "print('Distributions is {}normal\\n'.format( {True:'not ', False:''}[st[1] < alpha]))"
   ]
  },
  {
   "cell_type": "markdown",
   "metadata": {
    "id": "O7xe145t2zTc"
   },
   "source": [
    "Как оказалось, метрика *metric_value* также не распределена нормально. Поэтому при анализе равенства дисперсий будем применять критерий Левена, так как он является менее чувствительным к отклонению распределения от нормального."
   ]
  },
  {
   "cell_type": "code",
   "execution_count": null,
   "metadata": {
    "colab": {
     "base_uri": "https://localhost:8080/"
    },
    "id": "MXxSCbrCu7fj",
    "outputId": "e68eb8bb-a73d-43f8-d018-0ca7245e588a"
   },
   "outputs": [
    {
     "name": "stdout",
     "output_type": "stream",
     "text": [
      "metric_value:\n",
      "LeveneResult(statistic=0.8558572644772319, pvalue=0.35494527384691044)\n",
      "Variances of distributions is equal\n",
      "\n",
      "users:\n",
      "LeveneResult(statistic=0.2259561842063439, pvalue=0.6345593771597574)\n",
      "Variances of distributions is equal\n",
      "\n",
      "visits:\n",
      "LeveneResult(statistic=1.4223605587911405, pvalue=0.23307187357888978)\n",
      "Variances of distributions is equal\n",
      "\n",
      "churn_users:\n",
      "LeveneResult(statistic=479.43406390085335, pvalue=1.4725094743068422e-101)\n",
      "Variances of distributions is not equal\n",
      "\n",
      "churn_visits:\n",
      "LeveneResult(statistic=0.0015593409682454862, pvalue=0.9685025059261557)\n",
      "Variances of distributions is equal\n",
      "\n"
     ]
    }
   ],
   "source": [
    "print('metric_value:')\n",
    "st = levene(users_A[['metric_value']].values.flatten(), users_B[['metric_value']].values.flatten())\n",
    "print(st)\n",
    "print('Variances of distributions is {}equal\\n'.format( {True:'not ', False:''}[st[1] < alpha]))\n",
    "\n",
    "print('users:')\n",
    "st = levene(users_A[['users']].values.flatten(), users_B[['users']].values.flatten())\n",
    "print(st)\n",
    "print('Variances of distributions is {}equal\\n'.format( {True:'not ', False:''}[st[1] < alpha]))\n",
    "\n",
    "print('visits:')\n",
    "st = levene(users_A[['visits']].values.flatten(), users_B[['visits']].values.flatten())\n",
    "print(st)\n",
    "print('Variances of distributions is {}equal\\n'.format( {True:'not ', False:''}[st[1] < alpha]))\n",
    "\n",
    "print('churn_users:')\n",
    "st = levene(users_A[['churn_users']].values.flatten(), users_B[['churn_users']].values.flatten())\n",
    "print(st)\n",
    "print('Variances of distributions is {}equal\\n'.format( {True:'not ', False:''}[st[1] < alpha]))\n",
    "\n",
    "print('churn_visits:')\n",
    "st = levene(users_A[['churn_visits']].values.flatten(), users_B[['churn_visits']].values.flatten())\n",
    "print(st)\n",
    "print('Variances of distributions is {}equal\\n'.format( {True:'not ', False:''}[st[1] < alpha]))\n",
    "\n"
   ]
  },
  {
   "cell_type": "markdown",
   "metadata": {
    "id": "abyrlm3Q21-X"
   },
   "source": [
    "Согласно критерию Левена, лишь дисперсии по метрике *churn_users* в группах A и B не равны. "
   ]
  },
  {
   "cell_type": "markdown",
   "metadata": {
    "id": "1praNG1S26px"
   },
   "source": [
    "# Оценка статистической значимости различий исследуемых метрик в выборках при помощи библиотеки *bootstrapped*.\n",
    "\n",
    "Будем оценивать средние величины метрик в выборках и сравнивать по процентному изменению этих средних в тестовой выборке относительно контрольной.\n",
    "\n",
    "Формула для вычисления процентного изменения статистики:\n",
    "\n",
    "$$ percent\\_change = \\frac{(test\\_stat - ctrl\\_stat) * 100.0} {ctrl\\_stat}$$"
   ]
  },
  {
   "cell_type": "code",
   "execution_count": null,
   "metadata": {
    "colab": {
     "base_uri": "https://localhost:8080/"
    },
    "id": "mbY5NzExvkGE",
    "outputId": "49c55a1e-7c56-4a68-909e-a1df611b0885"
   },
   "outputs": [
    {
     "name": "stdout",
     "output_type": "stream",
     "text": [
      "\n",
      " metric_value:\n",
      "7.197720323707961    (5.531604888738643, 8.827293364359162)\n",
      "\n",
      " users:\n",
      "1.3768237777653305    (-4.6752091673302285, 6.994932270476651)\n",
      "\n",
      " visits:\n",
      "-5.903611421500263    (-15.837768323985735, 3.0601729152705506)\n",
      "\n",
      " churn_users:\n",
      "56.1550498399919    (49.110459478294366, 62.71884529935019)\n",
      "\n",
      " churn_visits:\n",
      "0.7355294540709173    (-0.871211001629929, 2.323123652614588)\n"
     ]
    }
   ],
   "source": [
    "print(f'\\n metric_value:')\n",
    "print(bs.bootstrap_ab(\n",
    "    users_B['metric_value'].values,\n",
    "    users_A['metric_value'].values,\n",
    "    stat_func=bs_stats.mean,\n",
    "    compare_func=bs_compare.percent_change,\n",
    "    num_iterations=5000,\n",
    "    alpha=0.05,\n",
    "    iteration_batch_size=100\n",
    "))\n",
    "\n",
    "print(f'\\n users:')\n",
    "print(bs.bootstrap_ab(\n",
    "    users_B['users'].values,\n",
    "    users_A['users'].values,\n",
    "    stat_func=bs_stats.mean,\n",
    "    compare_func=bs_compare.percent_change,\n",
    "    num_iterations=5000,\n",
    "    alpha=0.05,\n",
    "    iteration_batch_size=100\n",
    "))\n",
    "\n",
    "print(f'\\n visits:')\n",
    "print(bs.bootstrap_ab(\n",
    "    users_B['visits'].values,\n",
    "    users_A['visits'].values,\n",
    "    stat_func=bs_stats.mean,\n",
    "    compare_func=bs_compare.percent_change,\n",
    "    num_iterations=5000,\n",
    "    alpha=0.05,\n",
    "    iteration_batch_size=100\n",
    "))\n",
    "\n",
    "print(f'\\n churn_users:')\n",
    "print(bs.bootstrap_ab(\n",
    "    users_B['churn_users'].values,\n",
    "    users_A['churn_users'].values,\n",
    "    stat_func=bs_stats.mean,\n",
    "    compare_func=bs_compare.percent_change,\n",
    "    num_iterations=5000,\n",
    "    alpha=0.05,\n",
    "    iteration_batch_size=100\n",
    "))\n",
    "\n",
    "print(f'\\n churn_visits:')\n",
    "print(bs.bootstrap_ab(\n",
    "    users_B['churn_visits'].values,\n",
    "    users_A['churn_visits'].values,\n",
    "    stat_func=bs_stats.mean,\n",
    "    compare_func=bs_compare.percent_change,\n",
    "    num_iterations=5000,\n",
    "    alpha=0.05,\n",
    "    iteration_batch_size=100\n",
    "))"
   ]
  },
  {
   "cell_type": "markdown",
   "metadata": {
    "id": "owVy-zwH45Hq"
   },
   "source": [
    "Как мы можем заметить статистически значимы метрики *metric_value* и *churn_users*, т.к. доверительный интервал процентилей 0.05 и 0.95 не включает значение 0. <br>\n",
    "\n",
    "Средние по обеим метрикам увеличились. В случае *metric_value* изменение носит положительный характер (хоть и небольшой), т.к. увеличилось некоторое полезное действие пользователей. Однако нововведение также оказало и отрицательный эффект. Значительно увеличился отток пользователей, представленный метрикой *churn_users*. <br>\n",
    "\n",
    "(Результаты сходятся с классическими методами оценки стат. значимости)"
   ]
  }
 ],
 "metadata": {
  "colab": {
   "name": "ABT3.ipynb",
   "provenance": []
  },
  "kernelspec": {
   "display_name": "Python 3 (ipykernel)",
   "language": "python",
   "name": "python3"
  },
  "language_info": {
   "codemirror_mode": {
    "name": "ipython",
    "version": 3
   },
   "file_extension": ".py",
   "mimetype": "text/x-python",
   "name": "python",
   "nbconvert_exporter": "python",
   "pygments_lexer": "ipython3",
   "version": "3.9.7"
  }
 },
 "nbformat": 4,
 "nbformat_minor": 1
}
